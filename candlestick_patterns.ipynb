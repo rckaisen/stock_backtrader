{
  "cells": [
    {
      "cell_type": "code",
      "execution_count": 2,
      "metadata": {
        "id": "AiLVPPrrYL1j"
      },
      "outputs": [],
      "source": [
        "# Detect candlesticks patterns"
      ]
    },
    {
      "cell_type": "code",
      "execution_count": null,
      "metadata": {
        "colab": {
          "base_uri": "https://localhost:8080/"
        },
        "id": "WfqXkm6-ch8H",
        "outputId": "c9a131bd-c48e-47d6-9760-ad1310946152"
      },
      "outputs": [],
      "source": [
        "# download TA-Lib\n",
        "!wget http://prdownloads.sourceforge.net/ta-lib/ta-lib-0.4.0-src.tar.gz"
      ]
    },
    {
      "cell_type": "code",
      "execution_count": 4,
      "metadata": {
        "colab": {
          "base_uri": "https://localhost:8080/"
        },
        "id": "24p_-QS8cz7S",
        "outputId": "2f805489-9fdd-4e05-e0fd-eb8797ba7d17"
      },
      "outputs": [
        {
          "name": "stdout",
          "output_type": "stream",
          "text": [
            "sample_data  ta-lib-0.4.0-src.tar.gz\n"
          ]
        }
      ],
      "source": [
        "!ls"
      ]
    },
    {
      "cell_type": "code",
      "execution_count": null,
      "metadata": {
        "colab": {
          "base_uri": "https://localhost:8080/"
        },
        "id": "8_jrGxRWc1Fg",
        "outputId": "6a99a362-7246-4910-ff4e-cbe6259281dc"
      },
      "outputs": [],
      "source": [
        "!tar xvzf ta-lib-0.4.0-src.tar.gz"
      ]
    },
    {
      "cell_type": "code",
      "execution_count": 6,
      "metadata": {
        "colab": {
          "base_uri": "https://localhost:8080/"
        },
        "id": "427zDmhmc8C2",
        "outputId": "385ab8f9-ed0c-4068-b913-5e4b90fbf9dc"
      },
      "outputs": [
        {
          "name": "stdout",
          "output_type": "stream",
          "text": [
            "sample_data  ta-lib  ta-lib-0.4.0-src.tar.gz\n"
          ]
        }
      ],
      "source": [
        "!ls"
      ]
    },
    {
      "cell_type": "code",
      "execution_count": 7,
      "metadata": {
        "id": "HvYfuPBYc-bO"
      },
      "outputs": [],
      "source": [
        "import os"
      ]
    },
    {
      "cell_type": "code",
      "execution_count": 8,
      "metadata": {
        "id": "-LcO9iuJdEB1"
      },
      "outputs": [],
      "source": [
        "os.chdir('ta-lib') # Can't use !cd in co-lab"
      ]
    },
    {
      "cell_type": "code",
      "execution_count": null,
      "metadata": {
        "colab": {
          "base_uri": "https://localhost:8080/"
        },
        "id": "OBz8MAgydHAR",
        "outputId": "a61fc7cc-36fe-4c30-fca0-28540644055d"
      },
      "outputs": [],
      "source": [
        "!./configure --prefix=/usr"
      ]
    },
    {
      "cell_type": "code",
      "execution_count": null,
      "metadata": {
        "colab": {
          "base_uri": "https://localhost:8080/"
        },
        "id": "SzBhxdw9dI-z",
        "outputId": "3a84c5c3-4fdf-48ba-e4f5-1e5ece555a13"
      },
      "outputs": [],
      "source": [
        "!make"
      ]
    },
    {
      "cell_type": "code",
      "execution_count": null,
      "metadata": {
        "colab": {
          "base_uri": "https://localhost:8080/"
        },
        "id": "Sntr627DdK5N",
        "outputId": "13c0f26f-05a3-4efc-c85b-a109e755c9f7"
      },
      "outputs": [],
      "source": [
        "!make install\n",
        "# wait ~ 30s"
      ]
    },
    {
      "cell_type": "code",
      "execution_count": 12,
      "metadata": {
        "id": "zTWgTeaxdP7Y"
      },
      "outputs": [],
      "source": [
        "os.chdir('../')"
      ]
    },
    {
      "cell_type": "code",
      "execution_count": 13,
      "metadata": {
        "colab": {
          "base_uri": "https://localhost:8080/"
        },
        "id": "GuyY-nYadSmh",
        "outputId": "755e1e3a-9b1c-427a-e70e-0b9967b9aab7"
      },
      "outputs": [
        {
          "name": "stdout",
          "output_type": "stream",
          "text": [
            "sample_data  ta-lib  ta-lib-0.4.0-src.tar.gz\n"
          ]
        }
      ],
      "source": [
        "!ls"
      ]
    },
    {
      "cell_type": "code",
      "execution_count": null,
      "metadata": {
        "colab": {
          "base_uri": "https://localhost:8080/"
        },
        "id": "rf15I1GYYL1r",
        "outputId": "715e0301-a961-4ae4-ab9b-2054492f584c"
      },
      "outputs": [],
      "source": [
        "!pip install TA-Lib"
      ]
    },
    {
      "cell_type": "code",
      "execution_count": null,
      "metadata": {
        "colab": {
          "base_uri": "https://localhost:8080/"
        },
        "id": "Q66JTyGZYL1s",
        "outputId": "4d01e8ae-1b83-4bc1-a6ba-20ed768edef6"
      },
      "outputs": [],
      "source": [
        "# Main program\n",
        "from pandas import read_csv\n",
        "from pandas import datetime\n",
        "from pandas import concat\n",
        "from pandas import DataFrame\n",
        "import numpy as np\n",
        "import pandas as pd\n",
        "import talib\n",
        "import sys"
      ]
    },
    {
      "cell_type": "code",
      "execution_count": null,
      "metadata": {},
      "outputs": [],
      "source": [
        "# parsing date function\n",
        "def parser(x):\n",
        "    return datetime.strptime(x,'%Y-%m-%d')"
      ]
    },
    {
      "cell_type": "code",
      "execution_count": null,
      "metadata": {},
      "outputs": [],
      "source": [
        "# read csv file using specified parsing function and index column is the first column (index=0)\n",
        "dataset = read_csv('data/HSI.csv',header=0,parse_dates=[0],date_parser=parser,index_col=0)"
      ]
    },
    {
      "cell_type": "code",
      "execution_count": null,
      "metadata": {},
      "outputs": [],
      "source": [
        "# remove NaN values, drop 'Adj Close' column \n",
        "dataset = dataset.dropna().drop(['Adj Close'], axis=1)"
      ]
    },
    {
      "cell_type": "code",
      "execution_count": null,
      "metadata": {},
      "outputs": [],
      "source": [
        "# preview the dataset\n",
        "#print(dataset.head(n=10))\n",
        "#print(\"Dataset shape: \", dataset.shape)"
      ]
    },
    {
      "cell_type": "code",
      "execution_count": null,
      "metadata": {},
      "outputs": [],
      "source": [
        "# set arrays of open, high, low and close prices\n",
        "pOpen = dataset['Open'].values\n",
        "pHigh = dataset['High'].values\n",
        "pLow = dataset['Low'].values\n",
        "pClose = dataset['Close'].values\n",
        "volume = dataset['Volume'].values"
      ]
    },
    {
      "cell_type": "code",
      "execution_count": null,
      "metadata": {},
      "outputs": [],
      "source": [
        "# make a copy of the dataset\n",
        "df = dataset.copy()"
      ]
    },
    {
      "cell_type": "code",
      "execution_count": null,
      "metadata": {},
      "outputs": [],
      "source": [
        "# Two Crows (-100 denotes bearish)\n",
        "patternName = 'CDL2CROWS'\n",
        "output = talib.CDL2CROWS(pOpen, pHigh, pLow, pClose)\n",
        "df[patternName] = output\n",
        "#print(patternName, \": \\n\", df[df[patternName] != 0][patternName])\n",
        "\n",
        "# Three Black Crows (-100 denotes bearish)\n",
        "patternName = 'CDL3BLACKCROWS'\n",
        "output = talib.CDL3BLACKCROWS(pOpen, pHigh, pLow, pClose)\n",
        "df[patternName] = output\n",
        "#print(patternName, \": \\n\", df[df[patternName] != 0][patternName])\n",
        "\n",
        "# Three Inside Up/Down (-100 denotes bearish, +100 denotes bullish)\n",
        "patternName = 'CDL3INSIDE'\n",
        "output = talib.CDL3INSIDE(pOpen, pHigh, pLow, pClose)\n",
        "df[patternName] = output\n",
        "#print(patternName, \": \\n\", df[df[patternName] != 0][patternName])\n",
        "\n",
        "# Three-Line Strike (-100 denotes bearish, +100 denotes bullish)\n",
        "patternName = 'CDL3LINESTRIKE'\n",
        "output = talib.CDL3LINESTRIKE(pOpen, pHigh, pLow, pClose)\n",
        "df[patternName] = output\n",
        "#print(patternName, \": \\n\", df[df[patternName] != 0][patternName])\n",
        "\n",
        "# Three Outside Up/Down (-100 denotes bearish, +100 denotes bullish)\n",
        "patternName = 'CDL3OUTSIDE'\n",
        "output = talib.CDL3OUTSIDE(pOpen, pHigh, pLow, pClose)\n",
        "df[patternName] = output\n",
        "#print(patternName, \": \\n\", df[df[patternName] != 0][patternName])"
      ]
    },
    {
      "cell_type": "code",
      "execution_count": null,
      "metadata": {},
      "outputs": [],
      "source": [
        "# Three Stars In The South (+100 denotes bullish)\n",
        "patternName = 'CDL3STARSINSOUTH'\n",
        "output = talib.CDL3STARSINSOUTH(pOpen, pHigh, pLow, pClose)\n",
        "df[patternName] = output\n",
        "#print(patternName, \": \\n\", df[df[patternName] != 0][patternName])\n",
        "\n",
        "# Three Advancing White Soldiers (+100 denotes bullish)\n",
        "patternName = 'CDL3WHITESOLDIERS'\n",
        "output = talib.CDL3WHITESOLDIERS(pOpen, pHigh, pLow, pClose)\n",
        "df[patternName] = output \n",
        "#print(patternName, \": \\n\", df[df[patternName] != 0][patternName])\n",
        "\n",
        "# Abandoned Baby (-100 denotes bearish, +100 denotes bullish)\n",
        "patternName = 'CDLABANDONEDBABY'\n",
        "output = talib.CDLABANDONEDBABY(pOpen, pHigh, pLow, pClose)\n",
        "df[patternName] = output\n",
        "#print(patternName, \": \\n\", df[df[patternName] != 0][patternName])\n",
        "\n",
        "# Advance Block (-100 denotes bearish)\n",
        "patternName = 'CDLADVANCEBLOCK'\n",
        "output = talib.CDLADVANCEBLOCK(pOpen, pHigh, pLow, pClose)\n",
        "df[patternName] = output\n",
        "#print(patternName, \": \\n\", df[df[patternName] != 0][patternName])\n",
        "\n",
        "# Belt-hold (-100 denotes bearish, +100 denotes bullish)\n",
        "patternName = 'CDLBELTHOLD'\n",
        "output = talib.CDLBELTHOLD(pOpen, pHigh, pLow, pClose)\n",
        "df[patternName] = output\n",
        "#print(patternName, \": \\n\", df[df[patternName] != 0][patternName])"
      ]
    },
    {
      "cell_type": "code",
      "execution_count": null,
      "metadata": {},
      "outputs": [],
      "source": [
        "# Breakaway (-100 denotes bearish, +100 denotes bullish)\n",
        "patternName = 'CDLBREAKAWAY'\n",
        "output = talib.CDLBREAKAWAY(pOpen, pHigh, pLow, pClose)\n",
        "df[patternName] = output\n",
        "#print(patternName, \": \\n\", df[df[patternName] != 0][patternName])\n",
        "\n",
        "# Closing Marubozu (-100 denotes bearish, +100 denotes bullish)\n",
        "patternName = 'CDLCLOSINGMARUBOZU'\n",
        "output = talib.CDLCLOSINGMARUBOZU(pOpen, pHigh, pLow, pClose)\n",
        "df[patternName] = output\n",
        "#print(patternName, \": \\n\", df[df[patternName] != 0][patternName])\n",
        "\n",
        "# Concealing Baby Swallow (+100 denotes bullish)\n",
        "patternName = 'CDLCONCEALBABYSWALL'\n",
        "output = talib.CDLCONCEALBABYSWALL(pOpen, pHigh, pLow, pClose)\n",
        "df[patternName] = output\n",
        "#print(patternName, \": \\n\", df[df[patternName] != 0][patternName])\n",
        "\n",
        "# Counterattack (-100 denotes bearish, +100 denotes bullish)\n",
        "patternName = 'CDLCOUNTERATTACK'\n",
        "output = talib.CDLCOUNTERATTACK(pOpen, pHigh, pLow, pClose)\n",
        "df[patternName] = output\n",
        "#print(patternName, \": \\n\", df[df[patternName] != 0][patternName])\n",
        "\n",
        "# Dark Cloud Cover (-100 denotes bearish)\n",
        "patternName = 'CDLDARKCLOUDCOVER'\n",
        "output = talib.CDLDARKCLOUDCOVER(pOpen, pHigh, pLow, pClose)\n",
        "df[patternName] = output\n",
        "#print(patternName, \": \\n\", df[df[patternName] != 0][patternName])"
      ]
    },
    {
      "cell_type": "code",
      "execution_count": null,
      "metadata": {},
      "outputs": [],
      "source": [
        "# Doji (+100 denotes bullish)\n",
        "patternName = 'CDLDOJI'\n",
        "output = talib.CDLDOJI(pOpen, pHigh, pLow, pClose)\n",
        "df[patternName] = output\n",
        "#print(patternName, \": \\n\", df[df[patternName] != 0][patternName])\n",
        "\n",
        "# Doji Star (-100 denotes bearlish, +100 denotes bullish)\n",
        "#print(patternName, \": \\n\", df[df[patternName] != 0][p\n",
        "patternName = 'CDLDOJISTAR'\n",
        "output = talib.CDLDOJISTAR(pOpen, pHigh, pLow, pClose)\n",
        "df[patternName] = output\n",
        "#print(patternName, \": \\n\", df[df[patternName] != 0][patternName])\n",
        "\n",
        "# Dragonfly Doji (+100 denotes bullish)\n",
        "patternName = 'CDLDRAGONFLYDOJI'\n",
        "output = talib.CDLDRAGONFLYDOJI(pOpen, pHigh, pLow, pClose)\n",
        "df[patternName] = output\n",
        "#print(patternName, \": \\n\", df[df[patternName] != 0][patternName])\n",
        "\n",
        "# Engulfing Pattern (-100 denotes bearlish, +100 denotes bullish)\n",
        "patternName = 'CDLENGULFING'\n",
        "output = talib.CDLENGULFING(pOpen, pHigh, pLow, pClose)\n",
        "df[patternName] = output\n",
        "#print(patternName, \": \\n\", df[df[patternName] != 0][patternName])\n",
        "\n",
        "# Evening Doji Star (-100 denotes bearlish)\n",
        "patternName = 'CDLEVENINGDOJISTAR'\n",
        "output = talib.CDLEVENINGDOJISTAR(pOpen, pHigh, pLow, pClose)\n",
        "df[patternName] = output\n",
        "#print(patternName, \": \\n\", df[df[patternName] != 0][patternName])"
      ]
    },
    {
      "cell_type": "code",
      "execution_count": null,
      "metadata": {},
      "outputs": [],
      "source": [
        "# Evening Star (-100 denotes bearlish)\n",
        "patternName = 'CDLEVENINGSTAR'\n",
        "output = talib.CDLEVENINGSTAR(pOpen, pHigh, pLow, pClose)\n",
        "df[patternName] = output\n",
        "#print(patternName, \": \\n\", df[df[patternName] != 0][patternName])\n",
        "\n",
        "# Up/Down-gap side-by-side white lines (-100 denotes bearlish, +100 denotes bullish)\n",
        "patternName = 'CDLGAPSIDESIDEWHITE'\n",
        "output = talib.CDLGAPSIDESIDEWHITE(pOpen, pHigh, pLow, pClose)\n",
        "df[patternName] = output \n",
        "#print(patternName, \": \\n\", df[df[patternName] != 0][patternName]) \n",
        "\n",
        "# Gravestone Doji (+100 denotes bullish)\n",
        "patternName = 'CDLGRAVESTONEDOJI'\n",
        "output = talib.CDLGRAVESTONEDOJI(pOpen, pHigh, pLow, pClose)\n",
        "df[patternName] = output\n",
        "#print(patternName, \": \\n\", df[df[patternName] != 0][patternName])\n",
        "\n",
        "# Hammer (+100 denotes bullish)\n",
        "patternName = 'CDLHAMMER'\n",
        "output = talib.CDLHAMMER(pOpen, pHigh, pLow, pClose)\n",
        "df[patternName] = output\n",
        "#print(patternName, \": \\n\", df[df[patternName] != 0][patternName])\n",
        "\n",
        "# Hanging Man (-100 denotes bearish)\n",
        "patternName = 'CDLHANGINGMAN'\n",
        "output = talib.CDLHANGINGMAN(pOpen, pHigh, pLow, pClose)\n",
        "df[patternName] = output\n",
        "#print(patternName, \": \\n\", df[df[patternName] != 0][patternName])\n"
      ]
    },
    {
      "cell_type": "code",
      "execution_count": null,
      "metadata": {},
      "outputs": [],
      "source": [
        "# Harami Pattern (-100 denotes bearish, +100 denotes bullish)\n",
        "patternName = 'CDLHARAMI'\n",
        "output = talib.CDLHARAMI(pOpen, pHigh, pLow, pClose)\n",
        "df[patternName] = output\n",
        "#print(patternName, \": \\n\", df[df[patternName] != 0][patternName])\n",
        "\n",
        "# Harami Cross Pattern (-100 denotes bearish, +100 denotes bullish)\n",
        "patternName = 'CDLHARAMICROSS'\n",
        "output = talib.CDLHARAMICROSS(pOpen, pHigh, pLow, pClose)\n",
        "df[patternName] = output\n",
        "#print(patternName, \": \\n\", df[df[patternName] != 0][patternName])\n",
        "\n",
        "# High-Wave Candle (-100 denotes bearish, +100 denotes bullish)\n",
        "patternName = 'CDLHIGHWAVE'\n",
        "output = talib.CDLHIGHWAVE(pOpen, pHigh, pLow, pClose)\n",
        "df[patternName] = output\n",
        "#print(patternName, \": \\n\", df[df[patternName] != 0][patternName])\n",
        "\n",
        "# Hikkake Pattern\n",
        "patternName = 'CDLHIKKAKE'\n",
        "output = talib.CDLHIKKAKE(pOpen, pHigh, pLow, pClose)\n",
        "df[patternName] = output\n",
        "#print(patternName, \": \\n\", df[df[patternName] != 0][patternName])\n",
        "\n",
        "# Modified Hikkake Pattern\n",
        "patternName = 'CDLHIKKAKEMOD'\n",
        "output = talib.CDLHIKKAKEMOD(pOpen, pHigh, pLow, pClose)\n",
        "df[patternName] = output\n",
        "#print(patternName, \": \\n\", df[df[patternName] != 0][patternName])"
      ]
    },
    {
      "cell_type": "code",
      "execution_count": null,
      "metadata": {},
      "outputs": [],
      "source": [
        "# Homing Pigeon (+100 denotes bullish)\n",
        "patternName = 'CDLHOMINGPIGEON'\n",
        "output = talib.CDLHOMINGPIGEON(pOpen, pHigh, pLow, pClose)\n",
        "df[patternName] = output\n",
        "#print(patternName, \": \\n\", df[df[patternName] != 0][patternName])\n",
        "\n",
        "# Identical Three Crows (-100 denotes bearish)\n",
        "patternName = 'CDLIDENTICAL3CROWS'\n",
        "output = talib.CDLIDENTICAL3CROWS(pOpen, pHigh, pLow, pClose)\n",
        "df[patternName] = output\n",
        "#print(patternName, \": \\n\", df[df[patternName] != 0][patternName])\n",
        "\n",
        "# In-Neck Pattern (-100 denotes bearish)\n",
        "patternName = 'CDLINNECK'\n",
        "output = talib.CDLINNECK(pOpen, pHigh, pLow, pClose)\n",
        "df[patternName] = output\n",
        "#print(patternName, \": \\n\", df[df[patternName] != 0][patternName])\n",
        "\n",
        "# Inverted Hammer (+100 denotes bullish)\n",
        "patternName = 'CDLINVERTEDHAMMER'\n",
        "output = talib.CDLINVERTEDHAMMER(pOpen, pHigh, pLow, pClose)\n",
        "df[patternName] = output\n",
        "#print(patternName, \": \\n\", df[df[patternName] != 0][patternName])\n",
        "\n",
        "# Kicking (-100 denotes bearish, +100 denotes bullish)\n",
        "patternName = 'CDLKICKING'\n",
        "output = talib.CDLKICKING(pOpen, pHigh, pLow, pClose)\n",
        "df[patternName] = output\n",
        "#print(patternName, \": \\n\", df[df[patternName] != 0][patternName])"
      ]
    },
    {
      "cell_type": "code",
      "execution_count": null,
      "metadata": {},
      "outputs": [],
      "source": [
        "# Kicking - bull/bear determined by the longer marubozu (-100 denotes bearish, +100 denotes bullish)\n",
        "patternName = 'CDLKICKINGBYLENGTH'\n",
        "output = talib.CDLKICKINGBYLENGTH(pOpen, pHigh, pLow, pClose)\n",
        "df[patternName] = output\n",
        "#print(patternName, \": \\n\", df[df[patternName] != 0][patternName])\n",
        "\n",
        "# Ladder Bottom (+100 denotes bullish)\n",
        "patternName = 'CDLLADDERBOTTOM'\n",
        "output = talib.CDLLADDERBOTTOM(pOpen, pHigh, pLow, pClose)\n",
        "df[patternName] = output\n",
        "#print(patternName, \": \\n\", df[df[patternName] != 0][patternName])\n",
        "\n",
        "# Long Legged Doji (+100 denotes bullish)\n",
        "patternName = 'CDLLONGLEGGEDDOJI'\n",
        "output = talib.CDLLONGLEGGEDDOJI(pOpen, pHigh, pLow, pClose)\n",
        "df[patternName] = output\n",
        "#print(patternName, \": \\n\", df[df[patternName] != 0][patternName])\n",
        "\n",
        "# Long Line Candle (-100 denotes bearish, +100 denotes bullish)\n",
        "patternName = 'CDLLONGLINE'\n",
        "output = talib.CDLLONGLINE(pOpen, pHigh, pLow, pClose)\n",
        "df[patternName] = output\n",
        "#print(patternName, \": \\n\", df[df[patternName] != 0][patternName])\n",
        "\n",
        "# Marubozu (-100 denotes bearish, +100 denotes bullish)\n",
        "patternName = 'CDLMARUBOZU'\n",
        "output = talib.CDLMARUBOZU(pOpen, pHigh, pLow, pClose)\n",
        "df[patternName] = output\n",
        "#print(patternName, \": \\n\", df[df[patternName] != 0][patternName])"
      ]
    },
    {
      "cell_type": "code",
      "execution_count": null,
      "metadata": {},
      "outputs": [],
      "source": [
        "# Matching Low (+100 denotes bullish)\n",
        "patternName = 'CDLMATCHINGLOW'\n",
        "output = talib.CDLMATCHINGLOW(pOpen, pHigh, pLow, pClose)\n",
        "df[patternName] = output\n",
        "#print(patternName, \": \\n\", df[df[patternName] != 0][patternName])\n",
        "\n",
        "# Mat Hold (+100 denotes bullish)\n",
        "patternName = 'CDLMATHOLD'\n",
        "output = talib.CDLMATHOLD(pOpen, pHigh, pLow, pClose)\n",
        "df[patternName] = output\n",
        "#print(patternName, \": \\n\", df[df[patternName] != 0][patternName])\n",
        "\n",
        "# Morning Doji Star (+100 denotes bullish)\n",
        "patternName = 'CDLMORNINGDOJISTAR'\n",
        "output = talib.CDLMORNINGDOJISTAR(pOpen, pHigh, pLow, pClose)\n",
        "df[patternName] = output\n",
        "#print(patternName, \": \\n\", df[df[patternName] != 0][patternName])\n",
        "\n",
        "# Morning Star (+100 denotes bullish)\n",
        "patternName = 'CDLMORNINGSTAR'\n",
        "output = talib.CDLMORNINGSTAR(pOpen, pHigh, pLow, pClose)\n",
        "df[patternName] = output\n",
        "#print(patternName, \": \\n\", df[df[patternName] != 0][patternName])\n",
        "\n",
        "# On-Neck Pattern (-100 denotes bearish)\n",
        "patternName = 'CDLONNECK'\n",
        "output = talib.CDLONNECK(pOpen, pHigh, pLow, pClose)\n",
        "df[patternName] = output\n",
        "#print(patternName, \": \\n\", df[df[patternName] != 0][patternName])"
      ]
    },
    {
      "cell_type": "code",
      "execution_count": null,
      "metadata": {},
      "outputs": [],
      "source": [
        "# Piercing Pattern (+100 denotes bullish)\n",
        "patternName = 'CDLPIERCING'\n",
        "output = talib.CDLPIERCING(pOpen, pHigh, pLow, pClose)\n",
        "df[patternName] = output\n",
        "#print(patternName, \": \\n\", df[df[patternName] != 0][patternName])\n",
        "\n",
        "# Rickshaw Man (+100 denotes bullish)\n",
        "patternName = 'CDLRICKSHAWMAN'\n",
        "output = talib.CDLRICKSHAWMAN(pOpen, pHigh, pLow, pClose)\n",
        "df[patternName] = output\n",
        "#print(patternName, \": \\n\", df[df[patternName] != 0][patternName])\n",
        "\n",
        "# Rising/Falling Three Methods (-100 denotes bearish, +100 denotes bullish)\n",
        "patternName = 'CDLRISEFALL3METHODS'\n",
        "output = talib.CDLRISEFALL3METHODS(pOpen, pHigh, pLow, pClose)\n",
        "df[patternName] = output\n",
        "#print(patternName, \": \\n\", df[df[patternName] != 0][patternName])\n",
        "\n",
        "# Separating Lines (-100 denotes bearish, +100 denotes bullish)\n",
        "patternName = 'CDLSEPARATINGLINES'\n",
        "output = talib.CDLSEPARATINGLINES(pOpen, pHigh, pLow, pClose)\n",
        "df[patternName] = output\n",
        "#print(patternName, \": \\n\", df[df[patternName] != 0][patternName])\n",
        " \n",
        "# Shooting Star (-100 denotes bearish)\n",
        "patternName = 'CDLSHOOTINGSTAR'\n",
        "output = talib.CDLSHOOTINGSTAR(pOpen, pHigh, pLow, pClose)\n",
        "df[patternName] = output\n",
        "#print(patternName, \": \\n\", df[df[patternName] != 0][patternName])"
      ]
    },
    {
      "cell_type": "code",
      "execution_count": null,
      "metadata": {},
      "outputs": [],
      "source": [
        "# Short Line Candle (-100 denotes bearish, +100 denotes bullish)\n",
        "patternName = 'CDLSHORTLINE'\n",
        "output = talib.CDLSHORTLINE(pOpen, pHigh, pLow, pClose)\n",
        "df[patternName] = output\n",
        "#print(patternName, \": \\n\", df[df[patternName] != 0][patternName])\n",
        "\n",
        "# Spinning Top (-100 denotes bearish, +100 denotes bullish)\n",
        "patternName = 'CDLSPINNINGTOP'\n",
        "output = talib.CDLSPINNINGTOP(pOpen, pHigh, pLow, pClose)\n",
        "df[patternName] = output\n",
        "#print(patternName, \": \\n\", df[df[patternName] != 0][patternName])\n",
        "\n",
        "# Stalled Pattern (-100 denotes bearish)\n",
        "patternName = 'CDLSTALLEDPATTERN'\n",
        "output = talib.CDLSTALLEDPATTERN(pOpen, pHigh, pLow, pClose)\n",
        "df[patternName] = output\n",
        "#print(patternName, \": \\n\", df[df[patternName] != 0][patternName])\n",
        "\n",
        "# Stick Sandwich (-100 denotes bearish)\n",
        "patternName = 'CDLSTICKSANDWICH'\n",
        "output = talib.CDLSTICKSANDWICH(pOpen, pHigh, pLow, pClose)\n",
        "df[patternName] = output\n",
        "#print(patternName, \": \\n\", df[df[patternName] != 0][patternName])\n",
        "\n",
        "# Takuri (Dragonfly Doji with very long lower shadow) (+100 denotes bullish)\n",
        "patternName = 'CDLTAKURI'\n",
        "output = talib.CDLTAKURI(pOpen, pHigh, pLow, pClose)\n",
        "df[patternName] = output\n",
        "#print(patternName, \": \\n\", df[df[patternName] != 0][patternName])"
      ]
    },
    {
      "cell_type": "code",
      "execution_count": null,
      "metadata": {},
      "outputs": [],
      "source": [
        "# Tasuki Gap (-100 denotes bearish, +100 denotes bullish)\n",
        "patternName = 'CDLTASUKIGAP'\n",
        "output = talib.CDLTASUKIGAP(pOpen, pHigh, pLow, pClose)\n",
        "df[patternName] = output\n",
        "#print(patternName, \": \\n\", df[df[patternName] != 0][patternName])\n",
        "\n",
        "# Thrusting Pattern (-100 denotes bearish)\n",
        "patternName = 'CDLTHRUSTING'\n",
        "output = talib.CDLTHRUSTING(pOpen, pHigh, pLow, pClose)\n",
        "df[patternName] = output\n",
        "#print(patternName, \": \\n\", df[df[patternName] != 0][patternName])\n",
        "\n",
        "# Tristar Pattern (-100 denotes bearish, +100 denotes bullish)\n",
        "patternName = 'CDLTRISTAR'\n",
        "output = talib.CDLTRISTAR(pOpen, pHigh, pLow, pClose)\n",
        "df[patternName] = output\n",
        "#print(patternName, \": \\n\", df[df[patternName] != 0][patternName])\n",
        " \n",
        "# Unique 3 River (+100 denotes bullish)\n",
        "patternName = 'CDLUNIQUE3RIVER'\n",
        "output = talib.CDLUNIQUE3RIVER(pOpen, pHigh, pLow, pClose)\n",
        "df[patternName] = output\n",
        "#print(patternName, \": \\n\", df[df[patternName] != 0][patternName])\n",
        "\n",
        "# Upside Gap Two Crows (-100 denotes bearish)\n",
        "patternName = 'CDLUPSIDEGAP2CROWS'\n",
        "output = talib.CDLUPSIDEGAP2CROWS(pOpen, pHigh, pLow, pClose)\n",
        "df[patternName] = output\n",
        "#print(patternName, \": \\n\", df[df[patternName] != 0][patternName])\n",
        "\n",
        "# Upside/Downside Gap Three Methods (-100 denotes bearish, +100 denotes bullish)\n",
        "patternName = 'CDLXSIDEGAP3METHODS'\n",
        "output = talib.CDLXSIDEGAP3METHODS(pOpen, pHigh, pLow, pClose)\n",
        "df[patternName] = output\n",
        "#print(patternName, \": \\n\", df[df[patternName] != 0][patternName])"
      ]
    },
    {
      "cell_type": "code",
      "execution_count": null,
      "metadata": {},
      "outputs": [],
      "source": [
        "df.to_csv('data/candlesticks_patterns.csv')\n",
        "#sys.exit()"
      ]
    }
  ],
  "metadata": {
    "colab": {
      "provenance": []
    },
    "kernelspec": {
      "display_name": "Python 3",
      "name": "python3"
    },
    "language_info": {
      "name": "python"
    },
    "orig_nbformat": 4
  },
  "nbformat": 4,
  "nbformat_minor": 0
}
