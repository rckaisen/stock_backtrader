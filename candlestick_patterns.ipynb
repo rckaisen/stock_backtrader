{
  "cells": [
    {
      "cell_type": "code",
      "execution_count": 2,
      "metadata": {
        "id": "AiLVPPrrYL1j"
      },
      "outputs": [],
      "source": [
        "# Detect candlesticks patterns"
      ]
    },
    {
      "cell_type": "code",
      "execution_count": null,
      "metadata": {
        "colab": {
          "base_uri": "https://localhost:8080/"
        },
        "id": "WfqXkm6-ch8H",
        "outputId": "c9a131bd-c48e-47d6-9760-ad1310946152"
      },
      "outputs": [],
      "source": [
        "# download TA-Lib\n",
        "!wget http://prdownloads.sourceforge.net/ta-lib/ta-lib-0.4.0-src.tar.gz"
      ]
    },
    {
      "cell_type": "code",
      "execution_count": 4,
      "metadata": {
        "colab": {
          "base_uri": "https://localhost:8080/"
        },
        "id": "24p_-QS8cz7S",
        "outputId": "2f805489-9fdd-4e05-e0fd-eb8797ba7d17"
      },
      "outputs": [
        {
          "name": "stdout",
          "output_type": "stream",
          "text": [
            "sample_data  ta-lib-0.4.0-src.tar.gz\n"
          ]
        }
      ],
      "source": [
        "!ls"
      ]
    },
    {
      "cell_type": "code",
      "execution_count": null,
      "metadata": {
        "colab": {
          "base_uri": "https://localhost:8080/"
        },
        "id": "8_jrGxRWc1Fg",
        "outputId": "6a99a362-7246-4910-ff4e-cbe6259281dc"
      },
      "outputs": [],
      "source": [
        "!tar xvzf ta-lib-0.4.0-src.tar.gz"
      ]
    },
    {
      "cell_type": "code",
      "execution_count": 6,
      "metadata": {
        "colab": {
          "base_uri": "https://localhost:8080/"
        },
        "id": "427zDmhmc8C2",
        "outputId": "385ab8f9-ed0c-4068-b913-5e4b90fbf9dc"
      },
      "outputs": [
        {
          "name": "stdout",
          "output_type": "stream",
          "text": [
            "sample_data  ta-lib  ta-lib-0.4.0-src.tar.gz\n"
          ]
        }
      ],
      "source": [
        "!ls"
      ]
    },
    {
      "cell_type": "code",
      "execution_count": 7,
      "metadata": {
        "id": "HvYfuPBYc-bO"
      },
      "outputs": [],
      "source": [
        "import os"
      ]
    },
    {
      "cell_type": "code",
      "execution_count": 8,
      "metadata": {
        "id": "-LcO9iuJdEB1"
      },
      "outputs": [],
      "source": [
        "os.chdir('ta-lib') # Can't use !cd in co-lab"
      ]
    },
    {
      "cell_type": "code",
      "execution_count": null,
      "metadata": {
        "colab": {
          "base_uri": "https://localhost:8080/"
        },
        "id": "OBz8MAgydHAR",
        "outputId": "a61fc7cc-36fe-4c30-fca0-28540644055d"
      },
      "outputs": [],
      "source": [
        "!./configure --prefix=/usr"
      ]
    },
    {
      "cell_type": "code",
      "execution_count": null,
      "metadata": {
        "colab": {
          "base_uri": "https://localhost:8080/"
        },
        "id": "SzBhxdw9dI-z",
        "outputId": "3a84c5c3-4fdf-48ba-e4f5-1e5ece555a13"
      },
      "outputs": [],
      "source": [
        "!make"
      ]
    },
    {
      "cell_type": "code",
      "execution_count": null,
      "metadata": {
        "colab": {
          "base_uri": "https://localhost:8080/"
        },
        "id": "Sntr627DdK5N",
        "outputId": "13c0f26f-05a3-4efc-c85b-a109e755c9f7"
      },
      "outputs": [],
      "source": [
        "!make install\n",
        "# wait ~ 30s"
      ]
    },
    {
      "cell_type": "code",
      "execution_count": 12,
      "metadata": {
        "id": "zTWgTeaxdP7Y"
      },
      "outputs": [],
      "source": [
        "os.chdir('../')"
      ]
    },
    {
      "cell_type": "code",
      "execution_count": 13,
      "metadata": {
        "colab": {
          "base_uri": "https://localhost:8080/"
        },
        "id": "GuyY-nYadSmh",
        "outputId": "755e1e3a-9b1c-427a-e70e-0b9967b9aab7"
      },
      "outputs": [
        {
          "name": "stdout",
          "output_type": "stream",
          "text": [
            "sample_data  ta-lib  ta-lib-0.4.0-src.tar.gz\n"
          ]
        }
      ],
      "source": [
        "!ls"
      ]
    },
    {
      "cell_type": "code",
      "execution_count": null,
      "metadata": {
        "colab": {
          "base_uri": "https://localhost:8080/"
        },
        "id": "rf15I1GYYL1r",
        "outputId": "715e0301-a961-4ae4-ab9b-2054492f584c"
      },
      "outputs": [],
      "source": [
        "!pip install TA-Lib"
      ]
    },
    {
      "cell_type": "code",
      "execution_count": null,
      "metadata": {
        "colab": {
          "base_uri": "https://localhost:8080/"
        },
        "id": "Q66JTyGZYL1s",
        "outputId": "4d01e8ae-1b83-4bc1-a6ba-20ed768edef6"
      },
      "outputs": [],
      "source": [
        "# Main program\n",
        "from pandas import read_csv\n",
        "from pandas import datetime\n",
        "from pandas import concat\n",
        "from pandas import DataFrame\n",
        "import numpy as np\n",
        "import pandas as pd\n",
        "import talib\n",
        "import sys"
      ]
    }
  ],
  "metadata": {
    "colab": {
      "provenance": []
    },
    "kernelspec": {
      "display_name": "Python 3",
      "name": "python3"
    },
    "language_info": {
      "name": "python"
    },
    "orig_nbformat": 4
  },
  "nbformat": 4,
  "nbformat_minor": 0
}
